{
 "cells": [
  {
   "cell_type": "markdown",
   "metadata": {},
   "source": [
    "# Cluster 1\n",
    "'P04637','P56423','A0A2K5RMZ8','A0A1U7U5H4','J3KP33','A0A2I2Y7Z8','A0A2I3MD32','A0A2I3NCU7'"
   ]
  },
  {
   "cell_type": "markdown",
   "metadata": {},
   "source": [
    "# Cluster 2\n",
    "'O36006','Q95330','A0A2R8MYD9','A0A0K1TP12','G5B5D6','A0A250YHC8','A0A172Q425','H0XGB0','Q9TUB2','P41685','A0A671EZ36','Q29537','L8IPI8','P67939','Q9WUR6','P51664','A0A5N3X1K5','A0A2Y9R5B9','O09185','F6TL72','A0A452QA89','L5JZ91','A0A1S3EYC1','P10361','A0A4X1V650','P02340','Q920Y0','A0A1U9W5F4','Q9TTA1'"
   ]
  },
  {
   "cell_type": "code",
   "execution_count": null,
   "metadata": {},
   "outputs": [],
   "source": []
  }
 ],
 "metadata": {
  "kernelspec": {
   "display_name": "Python 3",
   "language": "python",
   "name": "python3"
  },
  "language_info": {
   "codemirror_mode": {
    "name": "ipython",
    "version": 3
   },
   "file_extension": ".py",
   "mimetype": "text/x-python",
   "name": "python",
   "nbconvert_exporter": "python",
   "pygments_lexer": "ipython3",
   "version": "3.8.3"
  }
 },
 "nbformat": 4,
 "nbformat_minor": 4
}
